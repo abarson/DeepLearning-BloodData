{
 "cells": [
  {
   "cell_type": "code",
   "execution_count": 16,
   "metadata": {},
   "outputs": [],
   "source": [
    "import we_panic_utils.nn.data_load as dl\n",
    "import we_panic_utils.nn.processing as p\n",
    "import matplotlib.pyplot as plt\n",
    "import numpy as np\n",
    "import matplotlib.animation as animation\n",
    "import site\n",
    "import os\n",
    "import numpy as np\n",
    "from PIL import Image"
   ]
  },
  {
   "cell_type": "code",
   "execution_count": 168,
   "metadata": {},
   "outputs": [
    {
     "data": {
      "text/plain": [
       "array([[104, 104, 104, ..., 105, 105, 104],\n",
       "       [104, 104, 104, ..., 105, 105, 105],\n",
       "       [104, 104, 104, ..., 105, 105, 105],\n",
       "       ...,\n",
       "       [105, 105, 105, ..., 104, 104, 104],\n",
       "       [105, 105, 105, ..., 104, 104, 104],\n",
       "       [104, 105, 105, ..., 104, 104, 104]], dtype=uint8)"
      ]
     },
     "execution_count": 168,
     "metadata": {},
     "output_type": "execute_result"
    }
   ],
   "source": [
    "frame_dir = \"rsz/S0002/Trial1_frames/flow_h\"\n",
    "frames = sorted(os.listdir(frame_dir))\n",
    "frames = frames[0:60]\n",
    "#frames = [os.path.join(frame_dir,frame) for frame in frames]\n",
    "frames = [np.asarray(Image.open(os.path.join(frame_dir,frame)).convert('L')) for frame in frames]\n",
    "#frames = np.array(frames)\n",
    "#frames.shape\n",
    "#frames\n",
    "#frames = np.array(frames)\n",
    "#frames.shape\n",
    "frames[0]"
   ]
  },
  {
   "cell_type": "code",
   "execution_count": 179,
   "metadata": {},
   "outputs": [],
   "source": [
    "def get_frames_from_dir(frame_dir):\n",
    "    frames = sorted(os.listdir(frame_dir))\n",
    "    frames = frames[0:60]\n",
    "    frames = [np.asarray(Image.open(os.path.join(frame_dir,frame)).convert('L')) for frame in frames\n",
    "             if frame!='flow_h' and frame != 'flow_v' and frame != '.DS_Store']\n",
    "    return frames"
   ]
  },
  {
   "cell_type": "code",
   "execution_count": 163,
   "metadata": {},
   "outputs": [],
   "source": [
    "nb_frames = 60\n",
    "def show_frame(num):\n",
    "    print(num)\n",
    "    current = frames[num]\n",
    "    #img = Image.open(imgs[num])\n",
    "    plt.imshow(np.asarray(current), cmap='gray')"
   ]
  },
  {
   "cell_type": "code",
   "execution_count": 185,
   "metadata": {},
   "outputs": [
    {
     "name": "stdout",
     "output_type": "stream",
     "text": [
      "0\n",
      "1\n",
      "2\n",
      "3\n",
      "4\n",
      "5\n",
      "6\n",
      "7\n",
      "8\n",
      "9\n",
      "10\n",
      "11\n",
      "12\n",
      "13\n",
      "14\n",
      "15\n",
      "16\n",
      "17\n",
      "18\n",
      "19\n",
      "20\n",
      "21\n",
      "22\n",
      "23\n",
      "24\n",
      "25\n",
      "26\n",
      "27\n",
      "28\n",
      "29\n",
      "30\n",
      "31\n",
      "32\n",
      "33\n",
      "34\n",
      "35\n",
      "36\n",
      "37\n",
      "38\n",
      "39\n",
      "40\n",
      "41\n",
      "42\n",
      "43\n",
      "44\n",
      "45\n",
      "46\n",
      "47\n",
      "48\n",
      "49\n",
      "50\n",
      "51\n",
      "52\n",
      "53\n",
      "54\n",
      "55\n",
      "56\n",
      "57\n",
      "58\n",
      "59\n"
     ]
    }
   ],
   "source": [
    "def make_gif(frames):\n",
    "    import imageio\n",
    "    with imageio.get_writer('ver.gif', mode='I') as writer:\n",
    "        for i, filename in enumerate(frames):\n",
    "            print(i)\n",
    "            #image = imageio.imread(filename)\n",
    "            writer.append_data(filename)\n",
    "make_gif(get_frames_from_dir('frames/S0002/Trial1_frames/flow_v'))"
   ]
  },
  {
   "cell_type": "code",
   "execution_count": 120,
   "metadata": {},
   "outputs": [
    {
     "name": "stdout",
     "output_type": "stream",
     "text": [
      "0\n",
      "0\n",
      "1\n",
      "2\n",
      "3\n",
      "4\n",
      "5\n",
      "6\n",
      "7\n",
      "8\n",
      "9\n",
      "10\n",
      "11\n",
      "12\n",
      "13\n",
      "14\n",
      "15\n",
      "16\n",
      "17\n",
      "18\n",
      "19\n",
      "20\n",
      "21\n",
      "22\n",
      "23\n",
      "24\n",
      "25\n",
      "26\n",
      "27\n",
      "28\n",
      "29\n",
      "30\n",
      "31\n",
      "32\n",
      "33\n",
      "34\n",
      "35\n",
      "36\n",
      "37\n",
      "38\n",
      "39\n",
      "40\n",
      "41\n",
      "42\n",
      "43\n",
      "44\n",
      "45\n",
      "46\n",
      "47\n",
      "48\n",
      "49\n",
      "50\n",
      "51\n",
      "52\n",
      "53\n",
      "54\n",
      "55\n",
      "56\n",
      "57\n",
      "58\n",
      "59\n",
      "0\n"
     ]
    },
    {
     "data": {
      "image/png": "[encoded data removed]",
      "text/plain": [
       "<Figure size 432x288 with 1 Axes>"
      ]
     },
     "metadata": {},
     "output_type": "display_data"
    },
    {
     "data": {
      "image/png": "[encoded data removed]",
      "text/plain": [
       "<Figure size 432x288 with 1 Axes>"
      ]
     },
     "metadata": {},
     "output_type": "display_data"
    }
   ],
   "source": [
    "plt.clf()\n",
    "plt.axis('off')\n",
    "fig = plt.figure()\n",
    "ax = plt.Axes(fig, [0., 0., 1., 1.])\n",
    "ax.set_axis_off()\n",
    "fig.add_axes(ax)\n",
    "\n",
    "anim = animation.FuncAnimation(fig,\n",
    "                              show_frame,\n",
    "                              nb_frames,\n",
    "                              fargs=())\n",
    "anim.save('animation.mp4', writer='ffmpeg', dpi=600, fps=10)"
   ]
  },
  {
   "cell_type": "code",
   "execution_count": null,
   "metadata": {},
   "outputs": [],
   "source": []
  },
  {
   "cell_type": "code",
   "execution_count": null,
   "metadata": {},
   "outputs": [],
   "source": []
  }
 ],
 "metadata": {
  "kernelspec": {
   "display_name": "Python 3",
   "language": "python",
   "name": "python3"
  },
  "language_info": {
   "codemirror_mode": {
    "name": "ipython",
    "version": 3
   },
   "file_extension": ".py",
   "mimetype": "text/x-python",
   "name": "python",
   "nbconvert_exporter": "python",
   "pygments_lexer": "ipython3",
   "version": "3.6.4"
  }
 },
 "nbformat": 4,
 "nbformat_minor": 2
}
