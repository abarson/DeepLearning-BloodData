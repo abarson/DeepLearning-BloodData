{
 "cells": [
  {
   "cell_type": "code",
   "execution_count": 1,
   "metadata": {
    "collapsed": true
   },
   "outputs": [],
   "source": [
    "import matplotlib.pyplot as plt\n",
    "import pandas as pd\n",
    "import numpy as np"
   ]
  },
  {
   "cell_type": "code",
   "execution_count": 2,
   "metadata": {
    "collapsed": true
   },
   "outputs": [],
   "source": [
    "csv = \"../subject_data.csv\""
   ]
  },
  {
   "cell_type": "code",
   "execution_count": 3,
   "metadata": {
    "collapsed": true
   },
   "outputs": [],
   "source": [
    "df = pd.read_csv(csv)"
   ]
  },
  {
   "cell_type": "code",
   "execution_count": 4,
   "metadata": {},
   "outputs": [
    {
     "data": {
      "text/plain": [
       "[128.0,\n",
       " 64.0,\n",
       " 100.0,\n",
       " 102.0,\n",
       " 72.0,\n",
       " 74.0,\n",
       " 78.0,\n",
       " 80.0,\n",
       " 82.0,\n",
       " 84.0,\n",
       " 116.0,\n",
       " 54.0,\n",
       " 56.0,\n",
       " 60.0,\n",
       " 94.0]"
      ]
     },
     "execution_count": 4,
     "metadata": {},
     "output_type": "execute_result"
    }
   ],
   "source": [
    "heart_rates = list(set(df['Heart Rate']))\n",
    "heart_rates"
   ]
  },
  {
   "cell_type": "code",
   "execution_count": 5,
   "metadata": {
    "collapsed": true
   },
   "outputs": [],
   "source": [
    "counts = {h_rate:0 for h_rate in heart_rates}\n",
    "for h in list(df['Heart Rate']):\n",
    "    counts[h] += 1\n",
    "    \n",
    "cts = [counts[h] for h in heart_rates]"
   ]
  },
  {
   "cell_type": "code",
   "execution_count": 7,
   "metadata": {},
   "outputs": [
    {
     "data": {
      "image/png": "[encoded data removed]",
      "text/plain": [
       "<Figure size 432x288 with 1 Axes>"
      ]
     },
     "metadata": {},
     "output_type": "display_data"
    }
   ],
   "source": [
    "plt.scatter(heart_rates, cts)\n",
    "#plt.xticks(heart_rates, heart_rates)\n",
    "plt.show()"
   ]
  },
  {
   "cell_type": "code",
   "execution_count": 8,
   "metadata": {},
   "outputs": [
    {
     "data": {
      "text/plain": [
       "82.75"
      ]
     },
     "execution_count": 8,
     "metadata": {},
     "output_type": "execute_result"
    }
   ],
   "source": [
    "np.mean(list(df['Heart Rate']))"
   ]
  },
  {
   "cell_type": "code",
   "execution_count": 9,
   "metadata": {},
   "outputs": [
    {
     "data": {
      "text/plain": [
       "[100.0,\n",
       " 128.0,\n",
       " 56.0,\n",
       " 72.0,\n",
       " 78.0,\n",
       " 94.0,\n",
       " 84.0,\n",
       " 74.0,\n",
       " 102.0,\n",
       " 80.0,\n",
       " 82.0,\n",
       " 64.0,\n",
       " 116.0,\n",
       " 80.0,\n",
       " 60.0,\n",
       " 54.0,\n",
       " 50.0,\n",
       " 64.0,\n",
       " 28.0,\n",
       " 36.0,\n",
       " 39.0,\n",
       " 47.0,\n",
       " 42.0,\n",
       " 37.0,\n",
       " 51.0,\n",
       " 40.0,\n",
       " 41.0,\n",
       " 32.0,\n",
       " 58.0,\n",
       " 40.0,\n",
       " 30.0,\n",
       " 27.0]"
      ]
     },
     "execution_count": 9,
     "metadata": {},
     "output_type": "execute_result"
    }
   ],
   "source": [
    "raw_hrates = list(df['Heart Rate'])\n",
    "trials = list(df['Trial'])\n",
    "\n",
    "for i, t in enumerate(trials):\n",
    "    if t is 1:\n",
    "        raw_hrates.append(raw_hrates[i]*2)\n",
    "    \n",
    "    else:\n",
    "        raw_hrates.append(raw_hrates[i]/2)\n",
    "\n",
    "raw_hrates"
   ]
  },
  {
   "cell_type": "code",
   "execution_count": 13,
   "metadata": {},
   "outputs": [],
   "source": [
    "counts = {h_rate:0 for h_rate in set(raw_hrates)}\n",
    "for h in raw_hrates:\n",
    "    counts[h] += 1\n",
    "\n",
    "hrates = list(set(raw_hrates))\n",
    "cts = [counts[h] for h in hrates]"
   ]
  },
  {
   "cell_type": "code",
   "execution_count": 15,
   "metadata": {},
   "outputs": [
    {
     "data": {
      "image/png": "[encoded data removed]",
      "text/plain": [
       "<Figure size 432x288 with 1 Axes>"
      ]
     },
     "metadata": {},
     "output_type": "display_data"
    }
   ],
   "source": [
    "plt.scatter(hrates, cts)\n",
    "#plt.xticks(heart_rates, heart_rates)\n",
    "plt.show()"
   ]
  },
  {
   "cell_type": "code",
   "execution_count": 24,
   "metadata": {},
   "outputs": [],
   "source": [
    "heart_rates = list(df['Heart Rate'])\n",
    "trials = list(df['Trial'])\n",
    "assert len(heart_rates) == len(trials)\n",
    "\n",
    "new_heart_rates = []\n",
    "for hr, trial in zip(heart_rates, trials):\n",
    "    if trial == 1:\n",
    "        new_heart_rates.append(hr * 2)\n",
    "    \n",
    "    else:\n",
    "        new_heart_rates.append(hr / 2)\n",
    "\n",
    "heart_rates.extend(new_heart_rates)\n",
    "\n",
    "hr_set = list(set(heart_rates))\n",
    "hr_cts = {h: 0 for h in hr_set}\n",
    "\n",
    "for h in heart_rates:\n",
    "    hr_cts[h] += 1\n",
    "    \n",
    "cts = [hr_cts[h] for h in hr_cts]"
   ]
  },
  {
   "cell_type": "code",
   "execution_count": 25,
   "metadata": {},
   "outputs": [
    {
     "data": {
      "image/png": "[encoded data removed]",
      "text/plain": [
       "<Figure size 432x288 with 1 Axes>"
      ]
     },
     "metadata": {},
     "output_type": "display_data"
    }
   ],
   "source": [
    "plt.scatter(hr_set, cts)\n",
    "#plt.xticks(heart_rates, heart_rates)\n",
    "plt.show()"
   ]
  },
  {
   "cell_type": "code",
   "execution_count": 26,
   "metadata": {},
   "outputs": [
    {
     "data": {
      "text/plain": [
       "92.34375"
      ]
     },
     "execution_count": 26,
     "metadata": {},
     "output_type": "execute_result"
    }
   ],
   "source": [
    "np.mean(heart_rates)"
   ]
  },
  {
   "cell_type": "code",
   "execution_count": 27,
   "metadata": {},
   "outputs": [
    {
     "data": {
      "text/plain": [
       "36.0"
      ]
     },
     "execution_count": 27,
     "metadata": {},
     "output_type": "execute_result"
    }
   ],
   "source": [
    "min(heart_rates)"
   ]
  },
  {
   "cell_type": "code",
   "execution_count": 29,
   "metadata": {},
   "outputs": [
    {
     "data": {
      "image/png": "[encoded data removed]",
      "text/plain": [
       "<Figure size 432x288 with 1 Axes>"
      ]
     },
     "metadata": {},
     "output_type": "display_data"
    }
   ],
   "source": [
    "heart_rates = list(df['Heart Rate'])\n",
    "trials = list(df['Trial'])\n",
    "assert len(heart_rates) == len(trials)\n",
    "\n",
    "new_heart_rates = []\n",
    "for hr, trial in zip(heart_rates, trials):\n",
    "    if trial == 1:\n",
    "        new_heart_rates.append(hr * 2)\n",
    "    \n",
    "    else:\n",
    "        new_heart_rates.append(hr * 2)\n",
    "        #new_heart_rates.append(hr / 2)\n",
    "\n",
    "heart_rates.extend(new_heart_rates)\n",
    "\n",
    "hr_set = list(set(heart_rates))\n",
    "hr_cts = {h: 0 for h in hr_set}\n",
    "\n",
    "for h in heart_rates:\n",
    "    hr_cts[h] += 1\n",
    "    \n",
    "cts = [hr_cts[h] for h in hr_cts]\n",
    "\n",
    "plt.scatter(hr_set, cts)\n",
    "#plt.xticks(heart_rates, heart_rates)\n",
    "plt.show()"
   ]
  },
  {
   "cell_type": "code",
   "execution_count": 32,
   "metadata": {},
   "outputs": [
    {
     "data": {
      "text/plain": [
       "array([ 28.        ,  31.90909091,  35.81818182,  39.72727273,\n",
       "        43.63636364,  47.54545455,  51.45454545,  55.36363636,\n",
       "        59.27272727,  63.18181818,  67.09090909,  71.        ,\n",
       "        74.90909091,  78.81818182,  82.72727273,  86.63636364,\n",
       "        90.54545455,  94.45454545,  98.36363636, 102.27272727,\n",
       "       106.18181818, 110.09090909, 114.        , 117.90909091,\n",
       "       121.81818182, 125.72727273, 129.63636364, 133.54545455,\n",
       "       137.45454545, 141.36363636, 145.27272727, 149.18181818,\n",
       "       153.09090909, 157.        , 160.90909091, 164.81818182,\n",
       "       168.72727273, 172.63636364, 176.54545455, 180.45454545,\n",
       "       184.36363636, 188.27272727, 192.18181818, 196.09090909,\n",
       "       200.        ])"
      ]
     },
     "execution_count": 32,
     "metadata": {},
     "output_type": "execute_result"
    }
   ],
   "source": [
    "np.linspace(28, 200, 45)"
   ]
  },
  {
   "cell_type": "code",
   "execution_count": 33,
   "metadata": {},
   "outputs": [
    {
     "data": {
      "text/html": [
       "<div>\n",
       "<style>\n",
       "    .dataframe thead tr:only-child th {\n",
       "        text-align: right;\n",
       "    }\n",
       "\n",
       "    .dataframe thead th {\n",
       "        text-align: left;\n",
       "    }\n",
       "\n",
       "    .dataframe tbody tr th {\n",
       "        vertical-align: top;\n",
       "    }\n",
       "</style>\n",
       "<table border=\"1\" class=\"dataframe\">\n",
       "  <thead>\n",
       "    <tr style=\"text-align: right;\">\n",
       "      <th></th>\n",
       "      <th>Unnamed: 0</th>\n",
       "      <th>Subject</th>\n",
       "      <th>Trial</th>\n",
       "      <th>Heart Rate</th>\n",
       "      <th>Respiratory Rate</th>\n",
       "    </tr>\n",
       "  </thead>\n",
       "  <tbody>\n",
       "    <tr>\n",
       "      <th>0</th>\n",
       "      <td>0</td>\n",
       "      <td>2.0</td>\n",
       "      <td>1.0</td>\n",
       "      <td>100.0</td>\n",
       "      <td>20.0</td>\n",
       "    </tr>\n",
       "    <tr>\n",
       "      <th>1</th>\n",
       "      <td>1</td>\n",
       "      <td>2.0</td>\n",
       "      <td>2.0</td>\n",
       "      <td>128.0</td>\n",
       "      <td>26.0</td>\n",
       "    </tr>\n",
       "    <tr>\n",
       "      <th>2</th>\n",
       "      <td>2</td>\n",
       "      <td>4.0</td>\n",
       "      <td>1.0</td>\n",
       "      <td>56.0</td>\n",
       "      <td>10.0</td>\n",
       "    </tr>\n",
       "    <tr>\n",
       "      <th>3</th>\n",
       "      <td>3</td>\n",
       "      <td>4.0</td>\n",
       "      <td>2.0</td>\n",
       "      <td>72.0</td>\n",
       "      <td>18.0</td>\n",
       "    </tr>\n",
       "    <tr>\n",
       "      <th>4</th>\n",
       "      <td>4</td>\n",
       "      <td>6.0</td>\n",
       "      <td>1.0</td>\n",
       "      <td>78.0</td>\n",
       "      <td>7.0</td>\n",
       "    </tr>\n",
       "    <tr>\n",
       "      <th>5</th>\n",
       "      <td>5</td>\n",
       "      <td>6.0</td>\n",
       "      <td>2.0</td>\n",
       "      <td>94.0</td>\n",
       "      <td>20.0</td>\n",
       "    </tr>\n",
       "    <tr>\n",
       "      <th>6</th>\n",
       "      <td>6</td>\n",
       "      <td>8.0</td>\n",
       "      <td>2.0</td>\n",
       "      <td>84.0</td>\n",
       "      <td>12.0</td>\n",
       "    </tr>\n",
       "    <tr>\n",
       "      <th>7</th>\n",
       "      <td>7</td>\n",
       "      <td>12.0</td>\n",
       "      <td>1.0</td>\n",
       "      <td>74.0</td>\n",
       "      <td>8.0</td>\n",
       "    </tr>\n",
       "    <tr>\n",
       "      <th>8</th>\n",
       "      <td>8</td>\n",
       "      <td>12.0</td>\n",
       "      <td>2.0</td>\n",
       "      <td>102.0</td>\n",
       "      <td>18.0</td>\n",
       "    </tr>\n",
       "    <tr>\n",
       "      <th>9</th>\n",
       "      <td>9</td>\n",
       "      <td>13.0</td>\n",
       "      <td>1.0</td>\n",
       "      <td>80.0</td>\n",
       "      <td>12.0</td>\n",
       "    </tr>\n",
       "    <tr>\n",
       "      <th>10</th>\n",
       "      <td>10</td>\n",
       "      <td>13.0</td>\n",
       "      <td>2.0</td>\n",
       "      <td>82.0</td>\n",
       "      <td>16.0</td>\n",
       "    </tr>\n",
       "    <tr>\n",
       "      <th>11</th>\n",
       "      <td>11</td>\n",
       "      <td>23.0</td>\n",
       "      <td>1.0</td>\n",
       "      <td>64.0</td>\n",
       "      <td>18.0</td>\n",
       "    </tr>\n",
       "    <tr>\n",
       "      <th>12</th>\n",
       "      <td>12</td>\n",
       "      <td>23.0</td>\n",
       "      <td>2.0</td>\n",
       "      <td>116.0</td>\n",
       "      <td>32.0</td>\n",
       "    </tr>\n",
       "    <tr>\n",
       "      <th>13</th>\n",
       "      <td>13</td>\n",
       "      <td>25.0</td>\n",
       "      <td>1.0</td>\n",
       "      <td>80.0</td>\n",
       "      <td>20.0</td>\n",
       "    </tr>\n",
       "    <tr>\n",
       "      <th>14</th>\n",
       "      <td>14</td>\n",
       "      <td>30.0</td>\n",
       "      <td>1.0</td>\n",
       "      <td>60.0</td>\n",
       "      <td>10.0</td>\n",
       "    </tr>\n",
       "    <tr>\n",
       "      <th>15</th>\n",
       "      <td>15</td>\n",
       "      <td>31.0</td>\n",
       "      <td>1.0</td>\n",
       "      <td>54.0</td>\n",
       "      <td>18.0</td>\n",
       "    </tr>\n",
       "  </tbody>\n",
       "</table>\n",
       "</div>"
      ],
      "text/plain": [
       "    Unnamed: 0  Subject  Trial  Heart Rate  Respiratory Rate\n",
       "0            0      2.0    1.0       100.0              20.0\n",
       "1            1      2.0    2.0       128.0              26.0\n",
       "2            2      4.0    1.0        56.0              10.0\n",
       "3            3      4.0    2.0        72.0              18.0\n",
       "4            4      6.0    1.0        78.0               7.0\n",
       "5            5      6.0    2.0        94.0              20.0\n",
       "6            6      8.0    2.0        84.0              12.0\n",
       "7            7     12.0    1.0        74.0               8.0\n",
       "8            8     12.0    2.0       102.0              18.0\n",
       "9            9     13.0    1.0        80.0              12.0\n",
       "10          10     13.0    2.0        82.0              16.0\n",
       "11          11     23.0    1.0        64.0              18.0\n",
       "12          12     23.0    2.0       116.0              32.0\n",
       "13          13     25.0    1.0        80.0              20.0\n",
       "14          14     30.0    1.0        60.0              10.0\n",
       "15          15     31.0    1.0        54.0              18.0"
      ]
     },
     "execution_count": 33,
     "metadata": {},
     "output_type": "execute_result"
    }
   ],
   "source": [
    "df"
   ]
  },
  {
   "cell_type": "code",
   "execution_count": 45,
   "metadata": {},
   "outputs": [
    {
     "data": {
      "text/html": [
       "<div>\n",
       "<style>\n",
       "    .dataframe thead tr:only-child th {\n",
       "        text-align: right;\n",
       "    }\n",
       "\n",
       "    .dataframe thead th {\n",
       "        text-align: left;\n",
       "    }\n",
       "\n",
       "    .dataframe tbody tr th {\n",
       "        vertical-align: top;\n",
       "    }\n",
       "</style>\n",
       "<table border=\"1\" class=\"dataframe\">\n",
       "  <thead>\n",
       "    <tr style=\"text-align: right;\">\n",
       "      <th></th>\n",
       "      <th>Unnamed: 0</th>\n",
       "      <th>Subject</th>\n",
       "      <th>Trial</th>\n",
       "      <th>Heart Rate</th>\n",
       "      <th>Respiratory Rate</th>\n",
       "    </tr>\n",
       "  </thead>\n",
       "  <tbody>\n",
       "    <tr>\n",
       "      <th>0</th>\n",
       "      <td>0</td>\n",
       "      <td>2.0</td>\n",
       "      <td>1.0</td>\n",
       "      <td>100.0</td>\n",
       "      <td>20.0</td>\n",
       "    </tr>\n",
       "    <tr>\n",
       "      <th>5</th>\n",
       "      <td>5</td>\n",
       "      <td>6.0</td>\n",
       "      <td>2.0</td>\n",
       "      <td>94.0</td>\n",
       "      <td>20.0</td>\n",
       "    </tr>\n",
       "    <tr>\n",
       "      <th>6</th>\n",
       "      <td>6</td>\n",
       "      <td>8.0</td>\n",
       "      <td>2.0</td>\n",
       "      <td>84.0</td>\n",
       "      <td>12.0</td>\n",
       "    </tr>\n",
       "    <tr>\n",
       "      <th>10</th>\n",
       "      <td>10</td>\n",
       "      <td>13.0</td>\n",
       "      <td>2.0</td>\n",
       "      <td>82.0</td>\n",
       "      <td>16.0</td>\n",
       "    </tr>\n",
       "  </tbody>\n",
       "</table>\n",
       "</div>"
      ],
      "text/plain": [
       "    Unnamed: 0  Subject  Trial  Heart Rate  Respiratory Rate\n",
       "0            0      2.0    1.0       100.0              20.0\n",
       "5            5      6.0    2.0        94.0              20.0\n",
       "6            6      8.0    2.0        84.0              12.0\n",
       "10          10     13.0    2.0        82.0              16.0"
      ]
     },
     "execution_count": 45,
     "metadata": {},
     "output_type": "execute_result"
    }
   ],
   "source": [
    "chosen = df[(df['Heart Rate'] <= 100) & (df['Heart Rate'] > 80)]\n",
    "#mysubjs = list(chosen['Subject'])\n",
    "#mysubjs\n",
    "chosen"
   ]
  },
  {
   "cell_type": "code",
   "execution_count": 52,
   "metadata": {},
   "outputs": [
    {
     "data": {
      "text/plain": [
       "['haha/S0002/trial1_frames',\n",
       " 'haha/S0006/trial2_frames',\n",
       " 'haha/S0008/trial2_frames',\n",
       " 'haha/S0013/trial2_frames']"
      ]
     },
     "execution_count": 52,
     "metadata": {},
     "output_type": "execute_result"
    }
   ],
   "source": [
    "import os\n",
    "output_dir = \"haha\"\n",
    "a = lambda o, s, t: os.path.join(o,\"S%04d/trial%d_frames\" % (s, t))\n",
    "path = [a(output_dir, s, t) for s,t in zip(list(chosen[\"Subject\"]), list(chosen['Trial']))]\n",
    "path"
   ]
  },
  {
   "cell_type": "code",
   "execution_count": 53,
   "metadata": {},
   "outputs": [
    {
     "data": {
      "text/plain": [
       "'Trial1'"
      ]
     },
     "execution_count": 53,
     "metadata": {},
     "output_type": "execute_result"
    }
   ],
   "source": [
    "\"Trial%d\" % 1"
   ]
  },
  {
   "cell_type": "code",
   "execution_count": 54,
   "metadata": {},
   "outputs": [
    {
     "data": {
      "text/plain": [
       "'Trial11'"
      ]
     },
     "execution_count": 54,
     "metadata": {},
     "output_type": "execute_result"
    }
   ],
   "source": [
    "\"Trial%d\" % 11"
   ]
  },
  {
   "cell_type": "code",
   "execution_count": null,
   "metadata": {
    "collapsed": true
   },
   "outputs": [],
   "source": []
  }
 ],
 "metadata": {
  "kernelspec": {
   "display_name": "Python 3",
   "language": "python",
   "name": "python3"
  },
  "language_info": {
   "codemirror_mode": {
    "name": "ipython",
    "version": 3
   },
   "file_extension": ".py",
   "mimetype": "text/x-python",
   "name": "python",
   "nbconvert_exporter": "python",
   "pygments_lexer": "ipython3",
   "version": "3.6.1"
  }
 },
 "nbformat": 4,
 "nbformat_minor": 2
}
