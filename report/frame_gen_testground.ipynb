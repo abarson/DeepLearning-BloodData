{
 "cells": [
  {
   "cell_type": "code",
   "execution_count": 1,
   "metadata": {},
   "outputs": [
    {
     "name": "stderr",
     "output_type": "stream",
     "text": [
      "/anaconda3/lib/python3.6/site-packages/h5py/__init__.py:36: FutureWarning: Conversion of the second argument of issubdtype from `float` to `np.floating` is deprecated. In future, it will be treated as `np.float64 == np.dtype(float).type`.\n",
      "  from ._conv import register_converters as _register_converters\n",
      "Using TensorFlow backend.\n"
     ]
    }
   ],
   "source": [
    "from we_panic_utils.nn.processing import frame_processing as fp\n",
    "from we_panic_utils.nn import data_load\n",
    "import matplotlib.pyplot as plt"
   ]
  },
  {
   "cell_type": "code",
   "execution_count": 2,
   "metadata": {},
   "outputs": [],
   "source": [
    "regular_parts = \"../reg_consolidated/\"\n",
    "augmented_parts = \"../aug_consolidated/\"\n",
    "\n",
    "partition_csv = \"../reg_part_out.csv\"\n",
    "filtered_csv = \"../NextStartingPoint.csv\"\n",
    "output_dir = \"test/\""
   ]
  },
  {
   "cell_type": "code",
   "execution_count": 10,
   "metadata": {},
   "outputs": [
    {
     "name": "stdout",
     "output_type": "stream",
     "text": [
      "[train_test_split_with_csv_support]: splitting data with augmented data directory -> ../aug_consolidated\n",
      "----Training Set----\n",
      " Subject   |   Trial   \n",
      "   ----    |    ----   \n",
      "    4      |     1     \n",
      "    6      |     1     \n",
      "    12     |     1     \n",
      "    13     |     1     \n",
      "    25     |     1     \n",
      "    30     |     1     \n",
      "    31     |     1     \n",
      "    2      |     2     \n",
      "    6      |     2     \n",
      "    8      |     2     \n",
      "    13     |     2     \n",
      "    23     |     2     \n",
      "--------------------\n",
      "\n",
      "----Validation Set----\n",
      " Subject   |   Trial   \n",
      "   ----    |    ----   \n",
      "    2      |     1     \n",
      "    12     |     2     \n",
      "----------------------\n",
      "\n",
      "----Testing Set----\n",
      " Subject   |   Trial   \n",
      "   ----    |    ----   \n",
      "    23     |     1     \n",
      "    4      |     2     \n",
      "------------------- \n",
      "\n",
      "[data_set_to_csv]: creating csv at -> out_test/train.csv\n",
      "[data_set_to_csv]: creating csv at -> out_test/test.csv\n",
      "[data_set_to_csv]: creating csv at -> out_test/val.csv\n",
      "{}\n"
     ]
    }
   ],
   "source": [
    "train, test, split = data_load.train_test_split_with_csv_support('../reg_consolidated', '../NextStartingPoint.csv',\n",
    "     '../reg_part_out.csv', 'out_test', '../aug_consolidated')\n",
    "\n",
    "print(train)\n",
    "processor = fp.FrameProcessor().frame_generator(train, \"train\")"
   ]
  },
  {
   "cell_type": "code",
   "execution_count": 4,
   "metadata": {},
   "outputs": [],
   "source": [
    "#processor = fp.FrameProcessor().frame_generator(training_paths2labels, 'train')\n",
    "#print(training_paths2labels)\n",
    "#x = next(processor)\n"
   ]
  },
  {
   "cell_type": "code",
   "execution_count": 5,
   "metadata": {},
   "outputs": [
    {
     "name": "stdout",
     "output_type": "stream",
     "text": [
      "{}\n"
     ]
    }
   ],
   "source": [
    "print(testing_paths2labels)"
   ]
  },
  {
   "cell_type": "code",
   "execution_count": null,
   "metadata": {},
   "outputs": [],
   "source": []
  }
 ],
 "metadata": {
  "kernelspec": {
   "display_name": "Python 3",
   "language": "python",
   "name": "python3"
  },
  "language_info": {
   "codemirror_mode": {
    "name": "ipython",
    "version": 3
   },
   "file_extension": ".py",
   "mimetype": "text/x-python",
   "name": "python",
   "nbconvert_exporter": "python",
   "pygments_lexer": "ipython3",
   "version": "3.6.4"
  }
 },
 "nbformat": 4,
 "nbformat_minor": 2
}
