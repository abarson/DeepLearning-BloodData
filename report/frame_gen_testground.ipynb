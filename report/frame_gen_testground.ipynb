{
 "cells": [
  {
   "cell_type": "code",
   "execution_count": 2,
   "metadata": {
    "collapsed": true
   },
   "outputs": [],
   "source": [
    "from we_panic_utils.nn import processing\n",
    "from we_panic_utils.nn import data_load\n",
    "import matplotlib.pyplot as plt"
   ]
  },
  {
   "cell_type": "code",
   "execution_count": 7,
   "metadata": {
    "collapsed": true
   },
   "outputs": [],
   "source": [
    "regular_parts = \"../reg_consolidated/\"\n",
    "augmented_parts = \"../aug_consolidated/\"\n",
    "\n",
    "partition_csv = \"../reg_part_out.csv\"\n",
    "filtered_csv = \"../NextStartingPoint.csv\"\n",
    "output_dir = \"test/\""
   ]
  },
  {
   "cell_type": "code",
   "execution_count": 8,
   "metadata": {},
   "outputs": [
    {
     "name": "stdout",
     "output_type": "stream",
     "text": [
      "[train_test_split_with_csv_support]: splitting data with augmented data directory -> ../aug_consolidated/\n",
      "----Training Set----\n",
      " Subject   |   Trial   \n",
      "   ----    |    ----   \n",
      "    2      |     1     \n",
      "    4      |     1     \n",
      "    6      |     1     \n",
      "    13     |     1     \n",
      "    23     |     1     \n",
      "    30     |     1     \n",
      "    31     |     1     \n",
      "    2      |     2     \n",
      "    4      |     2     \n",
      "    6      |     2     \n",
      "    13     |     2     \n",
      "    23     |     2     \n",
      "--------------------\n",
      "\n",
      "----Validation Set----\n",
      " Subject   |   Trial   \n",
      "   ----    |    ----   \n",
      "    25     |     1     \n",
      "    12     |     2     \n",
      "----------------------\n",
      "\n",
      "----Testing Set----\n",
      " Subject   |   Trial   \n",
      "   ----    |    ----   \n",
      "    12     |     1     \n",
      "    8      |     2     \n",
      "------------------- \n",
      "\n",
      "[check_exists_create_if_not] making a dir: test/\n",
      "[data_set_to_csv]: creating csv at -> test/train.csv\n",
      "[data_set_to_csv]: creating csv at -> test/test.csv\n",
      "[data_set_to_csv]: creating csv at -> test/val.csv\n"
     ]
    }
   ],
   "source": [
    "training_paths2labels, testing_paths2labels, validation_paths2labels = data_load.train_test_split_with_csv_support(regular_parts,\n",
    "                                                                                                                   filtered_csv,\n",
    "                                                                                                                   partition_csv,\n",
    "                                                                                                                   output_dir,\n",
    "                                                                                                                   augmented_data_path=augmented_parts)"
   ]
  },
  {
   "cell_type": "code",
   "execution_count": null,
   "metadata": {
    "collapsed": true
   },
   "outputs": [],
   "source": []
  }
 ],
 "metadata": {
  "kernelspec": {
   "display_name": "Python 3",
   "language": "python",
   "name": "python3"
  },
  "language_info": {
   "codemirror_mode": {
    "name": "ipython",
    "version": 3
   },
   "file_extension": ".py",
   "mimetype": "text/x-python",
   "name": "python",
   "nbconvert_exporter": "python",
   "pygments_lexer": "ipython3",
   "version": "3.6.1"
  }
 },
 "nbformat": 4,
 "nbformat_minor": 2
}
