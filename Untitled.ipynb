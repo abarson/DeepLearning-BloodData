{
 "cells": [
  {
   "cell_type": "code",
   "execution_count": 29,
   "metadata": {},
   "outputs": [],
   "source": [
    "import we_panic_utils.nn.data_load as dl\n",
    "import we_panic_utils.nn.processing as p\n",
    "import matplotlib.pyplot as plt\n",
    "import numpy as np\n",
    "import matplotlib.animation as animation"
   ]
  },
  {
   "cell_type": "code",
   "execution_count": 27,
   "metadata": {},
   "outputs": [],
   "source": [
    "train, test, val = dl.create_train_test_split_dataframes('rsz', 'subject_data.csv', 'boop')\n",
    "gen_gray = p.FrameProcessor(batch_size=2, greyscale_on=True).testing_generator_v3(val)\n",
    "gen_color = p.FrameProcessor(batch_size=2, greyscale_on=False).testing_generator_v3(val)"
   ]
  },
  {
   "cell_type": "code",
   "execution_count": 28,
   "metadata": {},
   "outputs": [
    {
     "data": {
      "text/html": [
       "<div>\n",
       "<style scoped>\n",
       "    .dataframe tbody tr th:only-of-type {\n",
       "        vertical-align: middle;\n",
       "    }\n",
       "\n",
       "    .dataframe tbody tr th {\n",
       "        vertical-align: top;\n",
       "    }\n",
       "\n",
       "    .dataframe thead th {\n",
       "        text-align: right;\n",
       "    }\n",
       "</style>\n",
       "<table border=\"1\" class=\"dataframe\">\n",
       "  <thead>\n",
       "    <tr style=\"text-align: right;\">\n",
       "      <th></th>\n",
       "      <th>Subject</th>\n",
       "      <th>Trial</th>\n",
       "      <th>Path</th>\n",
       "      <th>Heart Rate</th>\n",
       "      <th>Respiratory Rate</th>\n",
       "    </tr>\n",
       "  </thead>\n",
       "  <tbody>\n",
       "    <tr>\n",
       "      <th>6</th>\n",
       "      <td>8</td>\n",
       "      <td>2</td>\n",
       "      <td>rsz/S0008/Trial2_frames</td>\n",
       "      <td>84.0</td>\n",
       "      <td>12.000000</td>\n",
       "    </tr>\n",
       "    <tr>\n",
       "      <th>135</th>\n",
       "      <td>a208</td>\n",
       "      <td>2</td>\n",
       "      <td>rsz/Sa208/Trial2_frames</td>\n",
       "      <td>168.0</td>\n",
       "      <td>42.000000</td>\n",
       "    </tr>\n",
       "    <tr>\n",
       "      <th>136</th>\n",
       "      <td>b208</td>\n",
       "      <td>2</td>\n",
       "      <td>rsz/Sb208/Trial2_frames</td>\n",
       "      <td>140.0</td>\n",
       "      <td>35.000000</td>\n",
       "    </tr>\n",
       "    <tr>\n",
       "      <th>137</th>\n",
       "      <td>c208</td>\n",
       "      <td>2</td>\n",
       "      <td>rsz/Sc208/Trial2_frames</td>\n",
       "      <td>120.0</td>\n",
       "      <td>30.000000</td>\n",
       "    </tr>\n",
       "    <tr>\n",
       "      <th>138</th>\n",
       "      <td>d208</td>\n",
       "      <td>2</td>\n",
       "      <td>rsz/Sd208/Trial2_frames</td>\n",
       "      <td>105.0</td>\n",
       "      <td>26.250000</td>\n",
       "    </tr>\n",
       "    <tr>\n",
       "      <th>139</th>\n",
       "      <td>e208</td>\n",
       "      <td>2</td>\n",
       "      <td>rsz/Se208/Trial2_frames</td>\n",
       "      <td>93.3</td>\n",
       "      <td>23.333333</td>\n",
       "    </tr>\n",
       "    <tr>\n",
       "      <th>140</th>\n",
       "      <td>f208</td>\n",
       "      <td>2</td>\n",
       "      <td>rsz/Sf208/Trial2_frames</td>\n",
       "      <td>70.0</td>\n",
       "      <td>17.500000</td>\n",
       "    </tr>\n",
       "    <tr>\n",
       "      <th>141</th>\n",
       "      <td>g208</td>\n",
       "      <td>2</td>\n",
       "      <td>rsz/Sg208/Trial2_frames</td>\n",
       "      <td>60.0</td>\n",
       "      <td>15.000000</td>\n",
       "    </tr>\n",
       "    <tr>\n",
       "      <th>142</th>\n",
       "      <td>h208</td>\n",
       "      <td>2</td>\n",
       "      <td>rsz/Sh208/Trial2_frames</td>\n",
       "      <td>52.5</td>\n",
       "      <td>13.125000</td>\n",
       "    </tr>\n",
       "    <tr>\n",
       "      <th>143</th>\n",
       "      <td>i208</td>\n",
       "      <td>2</td>\n",
       "      <td>rsz/Si208/Trial2_frames</td>\n",
       "      <td>46.7</td>\n",
       "      <td>11.666667</td>\n",
       "    </tr>\n",
       "    <tr>\n",
       "      <th>144</th>\n",
       "      <td>j208</td>\n",
       "      <td>2</td>\n",
       "      <td>rsz/Sj208/Trial2_frames</td>\n",
       "      <td>42.0</td>\n",
       "      <td>10.500000</td>\n",
       "    </tr>\n",
       "    <tr>\n",
       "      <th>3</th>\n",
       "      <td>4</td>\n",
       "      <td>2</td>\n",
       "      <td>rsz/S0004/Trial2_frames</td>\n",
       "      <td>72.0</td>\n",
       "      <td>18.000000</td>\n",
       "    </tr>\n",
       "    <tr>\n",
       "      <th>115</th>\n",
       "      <td>a204</td>\n",
       "      <td>2</td>\n",
       "      <td>rsz/Sa204/Trial2_frames</td>\n",
       "      <td>144.0</td>\n",
       "      <td>36.000000</td>\n",
       "    </tr>\n",
       "    <tr>\n",
       "      <th>116</th>\n",
       "      <td>b204</td>\n",
       "      <td>2</td>\n",
       "      <td>rsz/Sb204/Trial2_frames</td>\n",
       "      <td>120.0</td>\n",
       "      <td>30.000000</td>\n",
       "    </tr>\n",
       "    <tr>\n",
       "      <th>117</th>\n",
       "      <td>c204</td>\n",
       "      <td>2</td>\n",
       "      <td>rsz/Sc204/Trial2_frames</td>\n",
       "      <td>102.9</td>\n",
       "      <td>25.714286</td>\n",
       "    </tr>\n",
       "    <tr>\n",
       "      <th>118</th>\n",
       "      <td>d204</td>\n",
       "      <td>2</td>\n",
       "      <td>rsz/Sd204/Trial2_frames</td>\n",
       "      <td>90.0</td>\n",
       "      <td>22.500000</td>\n",
       "    </tr>\n",
       "    <tr>\n",
       "      <th>119</th>\n",
       "      <td>e204</td>\n",
       "      <td>2</td>\n",
       "      <td>rsz/Se204/Trial2_frames</td>\n",
       "      <td>80.0</td>\n",
       "      <td>20.000000</td>\n",
       "    </tr>\n",
       "    <tr>\n",
       "      <th>120</th>\n",
       "      <td>f204</td>\n",
       "      <td>2</td>\n",
       "      <td>rsz/Sf204/Trial2_frames</td>\n",
       "      <td>60.0</td>\n",
       "      <td>15.000000</td>\n",
       "    </tr>\n",
       "    <tr>\n",
       "      <th>121</th>\n",
       "      <td>g204</td>\n",
       "      <td>2</td>\n",
       "      <td>rsz/Sg204/Trial2_frames</td>\n",
       "      <td>51.4</td>\n",
       "      <td>12.857143</td>\n",
       "    </tr>\n",
       "    <tr>\n",
       "      <th>122</th>\n",
       "      <td>h204</td>\n",
       "      <td>2</td>\n",
       "      <td>rsz/Sh204/Trial2_frames</td>\n",
       "      <td>45.0</td>\n",
       "      <td>11.250000</td>\n",
       "    </tr>\n",
       "    <tr>\n",
       "      <th>123</th>\n",
       "      <td>i204</td>\n",
       "      <td>2</td>\n",
       "      <td>rsz/Si204/Trial2_frames</td>\n",
       "      <td>40.0</td>\n",
       "      <td>10.000000</td>\n",
       "    </tr>\n",
       "    <tr>\n",
       "      <th>124</th>\n",
       "      <td>j204</td>\n",
       "      <td>2</td>\n",
       "      <td>rsz/Sj204/Trial2_frames</td>\n",
       "      <td>36.0</td>\n",
       "      <td>9.000000</td>\n",
       "    </tr>\n",
       "  </tbody>\n",
       "</table>\n",
       "</div>"
      ],
      "text/plain": [
       "    Subject  Trial                     Path  Heart Rate  Respiratory Rate\n",
       "6         8      2  rsz/S0008/Trial2_frames        84.0         12.000000\n",
       "135    a208      2  rsz/Sa208/Trial2_frames       168.0         42.000000\n",
       "136    b208      2  rsz/Sb208/Trial2_frames       140.0         35.000000\n",
       "137    c208      2  rsz/Sc208/Trial2_frames       120.0         30.000000\n",
       "138    d208      2  rsz/Sd208/Trial2_frames       105.0         26.250000\n",
       "139    e208      2  rsz/Se208/Trial2_frames        93.3         23.333333\n",
       "140    f208      2  rsz/Sf208/Trial2_frames        70.0         17.500000\n",
       "141    g208      2  rsz/Sg208/Trial2_frames        60.0         15.000000\n",
       "142    h208      2  rsz/Sh208/Trial2_frames        52.5         13.125000\n",
       "143    i208      2  rsz/Si208/Trial2_frames        46.7         11.666667\n",
       "144    j208      2  rsz/Sj208/Trial2_frames        42.0         10.500000\n",
       "3         4      2  rsz/S0004/Trial2_frames        72.0         18.000000\n",
       "115    a204      2  rsz/Sa204/Trial2_frames       144.0         36.000000\n",
       "116    b204      2  rsz/Sb204/Trial2_frames       120.0         30.000000\n",
       "117    c204      2  rsz/Sc204/Trial2_frames       102.9         25.714286\n",
       "118    d204      2  rsz/Sd204/Trial2_frames        90.0         22.500000\n",
       "119    e204      2  rsz/Se204/Trial2_frames        80.0         20.000000\n",
       "120    f204      2  rsz/Sf204/Trial2_frames        60.0         15.000000\n",
       "121    g204      2  rsz/Sg204/Trial2_frames        51.4         12.857143\n",
       "122    h204      2  rsz/Sh204/Trial2_frames        45.0         11.250000\n",
       "123    i204      2  rsz/Si204/Trial2_frames        40.0         10.000000\n",
       "124    j204      2  rsz/Sj204/Trial2_frames        36.0          9.000000"
      ]
     },
     "execution_count": 28,
     "metadata": {},
     "output_type": "execute_result"
    }
   ],
   "source": [
    "val"
   ]
  },
  {
   "cell_type": "code",
   "execution_count": 69,
   "metadata": {},
   "outputs": [],
   "source": [
    "imgs_gray = next(gen_gray)[0][0]\n",
    "imgs_color = next(gen_color)[0][0]"
   ]
  },
  {
   "cell_type": "code",
   "execution_count": 70,
   "metadata": {},
   "outputs": [
    {
     "data": {
      "text/plain": [
       "(60, 100, 100, 1)"
      ]
     },
     "execution_count": 70,
     "metadata": {},
     "output_type": "execute_result"
    }
   ],
   "source": [
    "imgs_gray.shape"
   ]
  },
  {
   "cell_type": "code",
   "execution_count": 77,
   "metadata": {},
   "outputs": [],
   "source": [
    "nb_frames = 3\n",
    "def show_frame(num, grays, colors):\n",
    "    currentg = grays[num]\n",
    "    #currentc = colors[num]\n",
    "    print(num)\n",
    "    imgg = np.reshape(currentg, (100, 100))\n",
    "    #imgc = np.reshape(currentc, (100, 100))\n",
    "    plt.imshow(np.asarray(imgg), cmap='gray')"
   ]
  },
  {
   "cell_type": "code",
   "execution_count": 78,
   "metadata": {},
   "outputs": [
    {
     "name": "stdout",
     "output_type": "stream",
     "text": [
      "0\n",
      "0\n",
      "1\n",
      "2\n",
      "0\n"
     ]
    },
    {
     "data": {
      "text/plain": [
       "<Figure size 432x288 with 0 Axes>"
      ]
     },
     "metadata": {},
     "output_type": "display_data"
    },
    {
     "data": {
      "image/png": "[encoded data removed]",
      "text/plain": [
       "<Figure size 432x288 with 1 Axes>"
      ]
     },
     "metadata": {},
     "output_type": "display_data"
    }
   ],
   "source": [
    "plt.clf()\n",
    "fig = plt.figure()\n",
    "anim = animation.FuncAnimation(fig,\n",
    "                              show_frame,\n",
    "                              nb_frames,\n",
    "                              fargs=(imgs_gray, imgs_color))\n",
    "#plt.show()\n",
    "anim.save('animation.mp4', writer='ffmpeg', dpi=600, fps=30)"
   ]
  },
  {
   "cell_type": "code",
   "execution_count": null,
   "metadata": {},
   "outputs": [],
   "source": []
  }
 ],
 "metadata": {
  "kernelspec": {
   "display_name": "Python 3",
   "language": "python",
   "name": "python3"
  },
  "language_info": {
   "codemirror_mode": {
    "name": "ipython",
    "version": 3
   },
   "file_extension": ".py",
   "mimetype": "text/x-python",
   "name": "python",
   "nbconvert_exporter": "python",
   "pygments_lexer": "ipython3",
   "version": "3.6.4"
  }
 },
 "nbformat": 4,
 "nbformat_minor": 2
}
